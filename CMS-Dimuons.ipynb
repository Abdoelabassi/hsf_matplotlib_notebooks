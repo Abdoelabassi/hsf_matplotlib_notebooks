{
  "cells": [
    {
      "cell_type": "markdown",
      "metadata": {
        "id": "view-in-github",
        "colab_type": "text"
      },
      "source": [
        "<a href=\"https://colab.research.google.com/github/plttraining/hsf_matplotlib_notebooks/blob/main/CMS-Dimuons.ipynb\" target=\"_parent\"><img src=\"https://colab.research.google.com/assets/colab-badge.svg\" alt=\"Open In Colab\"/></a>"
      ]
    },
    {
      "cell_type": "markdown",
      "metadata": {
        "id": "eSqk6ZvCTatQ"
      },
      "source": [
        "# **If on Colab**\n",
        "\n",
        "Please click on the bage and then run the code below"
      ],
      "id": "eSqk6ZvCTatQ"
    },
    {
      "cell_type": "code",
      "source": [
        "! git clone https://github.com/plttraining/hsf_matplotlib_notebooks.git\n",
        "! cd hsf_matplotlib_notebooks/; pip install -r requirements.txt ; bash postBuild\n",
        "% cd hsf_matplotlib_notebooks/"
      ],
      "metadata": {
        "id": "tP7SqSpMTkHC",
        "outputId": "b3284f63-235d-4573-ceb7-491e2f7c31dc",
        "colab": {
          "base_uri": "https://localhost:8080/"
        }
      },
      "id": "tP7SqSpMTkHC",
      "execution_count": 436,
      "outputs": [
        {
          "output_type": "stream",
          "name": "stdout",
          "text": [
            "fatal: destination path 'hsf_matplotlib_notebooks' already exists and is not an empty directory.\n",
            "Requirement already satisfied: numpy in /usr/local/lib/python3.7/dist-packages (from -r requirements.txt (line 1)) (1.19.5)\n",
            "Requirement already satisfied: awkward in /usr/local/lib/python3.7/dist-packages (from -r requirements.txt (line 2)) (1.7.0)\n",
            "Requirement already satisfied: uproot in /usr/local/lib/python3.7/dist-packages (from -r requirements.txt (line 3)) (4.1.9)\n",
            "Requirement already satisfied: matplotlib in /usr/local/lib/python3.7/dist-packages (from -r requirements.txt (line 4)) (3.5.1)\n",
            "Requirement already satisfied: scipy in /usr/local/lib/python3.7/dist-packages (from -r requirements.txt (line 5)) (1.4.1)\n",
            "Requirement already satisfied: pandas in /usr/local/lib/python3.7/dist-packages (from -r requirements.txt (line 6)) (1.3.5)\n",
            "Requirement already satisfied: hist in /usr/local/lib/python3.7/dist-packages (from -r requirements.txt (line 7)) (2.5.2)\n",
            "Requirement already satisfied: mplhep in /usr/local/lib/python3.7/dist-packages (from -r requirements.txt (line 8)) (0.3.20)\n",
            "Requirement already satisfied: h5py in /usr/local/lib/python3.7/dist-packages (from -r requirements.txt (line 9)) (3.1.0)\n",
            "Requirement already satisfied: setuptools in /usr/local/lib/python3.7/dist-packages (from awkward->-r requirements.txt (line 2)) (57.4.0)\n",
            "Requirement already satisfied: python-dateutil>=2.7 in /usr/local/lib/python3.7/dist-packages (from matplotlib->-r requirements.txt (line 4)) (2.8.2)\n",
            "Requirement already satisfied: kiwisolver>=1.0.1 in /usr/local/lib/python3.7/dist-packages (from matplotlib->-r requirements.txt (line 4)) (1.3.2)\n",
            "Requirement already satisfied: pillow>=6.2.0 in /usr/local/lib/python3.7/dist-packages (from matplotlib->-r requirements.txt (line 4)) (7.1.2)\n",
            "Requirement already satisfied: packaging>=20.0 in /usr/local/lib/python3.7/dist-packages (from matplotlib->-r requirements.txt (line 4)) (21.3)\n",
            "Requirement already satisfied: fonttools>=4.22.0 in /usr/local/lib/python3.7/dist-packages (from matplotlib->-r requirements.txt (line 4)) (4.29.1)\n",
            "Requirement already satisfied: pyparsing>=2.2.1 in /usr/local/lib/python3.7/dist-packages (from matplotlib->-r requirements.txt (line 4)) (3.0.7)\n",
            "Requirement already satisfied: cycler>=0.10 in /usr/local/lib/python3.7/dist-packages (from matplotlib->-r requirements.txt (line 4)) (0.11.0)\n",
            "Requirement already satisfied: six>=1.5 in /usr/local/lib/python3.7/dist-packages (from python-dateutil>=2.7->matplotlib->-r requirements.txt (line 4)) (1.15.0)\n",
            "Requirement already satisfied: pytz>=2017.3 in /usr/local/lib/python3.7/dist-packages (from pandas->-r requirements.txt (line 6)) (2018.9)\n",
            "Requirement already satisfied: histoprint>=2.2.0 in /usr/local/lib/python3.7/dist-packages (from hist->-r requirements.txt (line 7)) (2.2.1)\n",
            "Requirement already satisfied: boost-histogram~=1.2.0 in /usr/local/lib/python3.7/dist-packages (from hist->-r requirements.txt (line 7)) (1.2.1)\n",
            "Requirement already satisfied: typing-extensions>=3.7 in /usr/local/lib/python3.7/dist-packages (from hist->-r requirements.txt (line 7)) (3.10.0.2)\n",
            "Requirement already satisfied: uhi>=0.2.1 in /usr/local/lib/python3.7/dist-packages (from histoprint>=2.2.0->hist->-r requirements.txt (line 7)) (0.3.1)\n",
            "Requirement already satisfied: click>=7.0.0 in /usr/local/lib/python3.7/dist-packages (from histoprint>=2.2.0->hist->-r requirements.txt (line 7)) (7.1.2)\n",
            "Requirement already satisfied: mplhep-data in /usr/local/lib/python3.7/dist-packages (from mplhep->-r requirements.txt (line 8)) (0.0.3)\n",
            "Requirement already satisfied: cached-property in /usr/local/lib/python3.7/dist-packages (from h5py->-r requirements.txt (line 9)) (1.5.2)\n",
            "/content/hsf_matplotlib_notebooks\n"
          ]
        }
      ]
    },
    {
      "cell_type": "markdown",
      "source": [
        "\n",
        "\n",
        "You might see a warning to Restart the Runtime. This is expected. Just go to the `Kernel` tab and click on `Restart runtime`. Without this restart on Colab you might be able not use mplhep properly.\n",
        "\n",
        "You only have to do this once per notebook on Google Colab.\n"
      ],
      "metadata": {
        "id": "YhKLOE-AT1eY"
      },
      "id": "YhKLOE-AT1eY"
    },
    {
      "cell_type": "markdown",
      "metadata": {
        "id": "ChEwEkRfCRMJ"
      },
      "source": [
        "# Looking at the dimuon spectrum over a wide energy range"
      ],
      "id": "ChEwEkRfCRMJ"
    },
    {
      "cell_type": "markdown",
      "metadata": {
        "id": "5Q3czKXICRMN"
      },
      "source": [
        "<h3>Learning goals</h3>\n",
        "<ul>\n",
        "    <li>Relativistic kinematics.\n",
        "    <li>Mesons.\n",
        "</ul>"
      ],
      "id": "5Q3czKXICRMN"
    },
    {
      "cell_type": "markdown",
      "metadata": {
        "id": "-EQWisz_CRMQ"
      },
      "source": [
        "<b>Background</b>\n",
        "\n",
        "To determine the mass ($m$) of a particle you need to know the 4-momenta of the particles ($\\mathbf{P}$) that are detected after the collision: the energy ($E$), the momentum in the x direction ($p_x$), the momentum in the y direction ($p_y$), the momentum in the z direction ($p_z$).\n",
        "\n",
        "$$\\mathbf{P} = (E,p_x,p_y,p_z)$$\n",
        "\n",
        "\n",
        "\\begin{equation*} m = \\sqrt{E^2-(p_x^2+p_y^2 + p_z^2)} \\end{equation*}\n",
        "\n",
        "Some particles are very unstable and decay (turn into) to two or more other particles. In fact, they can decay so quickly, that they never interact with your detector! Yikes!\n",
        "\n",
        "However, we can reconstruct the parent particle (sometimes referred to as <b>the initial state particle</b>) and its 4-momentum by adding the 4-momenta of the child particles (sometimes referred to as <b>the decay products</b>). \n",
        "\n",
        "$$\\mathbf{P_{\\rm parent}} = \\mathbf{P_{\\rm child 0}} + \\mathbf{P_{\\rm child 1}} + \\mathbf{P_{\\rm child 2}} + ...$$\n",
        "\n",
        "\n",
        "\n",
        "which breaks down into...\n",
        "\n",
        "$$E_{\\rm parent} = E_{\\rm child 0} + E_{\\rm child 1} + E_{\\rm child 2} + ...$$\n",
        "\n",
        "$$p_{\\rm x parent} = p_{\\rm x child 0} + p_{\\rm x child 1} + p_{\\rm x child 2} + ...$$\n",
        "\n",
        "$$p_{\\rm y parent} = p_{\\rm y child 0} + p_{\\rm y child 1} + p_{\\rm y child 2} + ...$$\n",
        "\n",
        "$$p_{\\rm z parent} = p_{\\rm z child 0} + p_{\\rm y child 1} + p_{\\rm z child 2} + ...$$\n"
      ],
      "id": "-EQWisz_CRMQ"
    },
    {
      "cell_type": "markdown",
      "metadata": {
        "id": "rQR8GLXUCRMS"
      },
      "source": [
        "<b>Let's code!</b>\n",
        "\n",
        "Here is some very, very basic starter code. It reads in data from the CMS experiment. \n",
        " \n"
      ],
      "id": "rQR8GLXUCRMS"
    },
    {
      "cell_type": "markdown",
      "metadata": {
        "id": "Q5_Ws3DgCRMe"
      },
      "source": [
        "<h2><font color=\"red\">Challenge!</font></h2>\n",
        "\n",
        "Use the sample code to find the mass of the particle that the two muons came from (parent particle). \n",
        "\n",
        "To do this, you will need to loop over all pairs of muons for each collision, sum their 4-momenta (energy, px, py, and pz) and then use that to calculate the invariant mass. \n",
        "<!-- \n",
        "Do this for all possible pairs and in addition, break it down so that you calculate the invariant mass for the cases where:\n",
        "* Both muons are positively charged.\n",
        "* Both muons are negatively charged.\n",
        "* The muons have opposite charges. -->\n",
        "<!-- \n",
        "Be careful. Some collisions may have more than 2 muons, so write your code such that it calculates all possible pairs of muons in a given collisions. For example, if there are 3 muons in a collision, there are 3 possible pairs that you can make.  -->\n",
        "\n",
        "<i>Hint!</i>\n",
        "\n",
        "It is very likely that a particle exists where there is a peak in the data. However, this is not always true. \n",
        "A peak in the data is most likely the mass of a particle. You can look at the approximate mass to figure out which particle \n",
        "is found in the data."
      ],
      "id": "Q5_Ws3DgCRMe"
    },
    {
      "cell_type": "markdown",
      "metadata": {
        "id": "Q1GLOtOfCRMg"
      },
      "source": [
        "Your histogram should look something like the following sketch. The value of the peaks should be the mass of a particle. You should be able to find two particles in their ground state. <a href=\"http://en.wikipedia.org/wiki/J/psi_meson\">Check your answer for the first particle!</a> <a href=\"http://en.wikipedia.org/wiki/Upsilon_meson\">Check your answer for the second particle!</a> "
      ],
      "id": "Q1GLOtOfCRMg"
    },
    {
      "cell_type": "code",
      "execution_count": 439,
      "metadata": {
        "colab": {
          "base_uri": "https://localhost:8080/",
          "height": 342
        },
        "id": "nRdNKhJBCRMh",
        "outputId": "0ea20a3f-72b4-4846-f7d1-22333cbcafe9",
        "tags": []
      },
      "outputs": [
        {
          "output_type": "execute_result",
          "data": {
            "text/html": [
              "<img src=\"https://raw.githubusercontent.com/particle-physics-playground/playground/master/activities/images/dimuons_sketch.jpeg\"/>"
            ],
            "text/plain": [
              "<IPython.core.display.Image object>"
            ]
          },
          "metadata": {},
          "execution_count": 439
        }
      ],
      "source": [
        "from IPython.display import Image\n",
        "Image(url='https://raw.githubusercontent.com/particle-physics-playground/playground/master/activities/images/dimuons_sketch.jpeg')"
      ],
      "id": "nRdNKhJBCRMh"
    },
    {
      "cell_type": "code",
      "execution_count": 440,
      "metadata": {
        "id": "UI9SpKUnTati"
      },
      "outputs": [],
      "source": [
        "import numpy as np\n",
        "import h5py\n",
        "import awkward as ak\n",
        "import matplotlib.pyplot as plt\n",
        "import mplhep as hep"
      ],
      "id": "UI9SpKUnTati"
    },
    {
      "cell_type": "markdown",
      "source": [
        "Decide which styling you want to use"
      ],
      "metadata": {
        "id": "jwmB_SAlVJz-"
      },
      "id": "jwmB_SAlVJz-"
    },
    {
      "cell_type": "code",
      "execution_count": 4,
      "metadata": {
        "id": "a3CSg4r1Tatj"
      },
      "outputs": [],
      "source": [
        "# plt.style.use(\"default\") # This is the default style for matplotlib # Do not change this cell if you desire this option\n",
        "# hep.style.use(\"ROOT\") # This is the mplhep style # Uncomment this line for this styling."
      ],
      "id": "a3CSg4r1Tatj"
    },
    {
      "cell_type": "code",
      "execution_count": 442,
      "metadata": {
        "tags": [],
        "id": "kVX3N4-VTatk"
      },
      "outputs": [],
      "source": [
        "event=h5py.File('data/dimuon100k.hdf5',mode='r') #  make sure you have the correct path to the dimuon file"
      ],
      "id": "kVX3N4-VTatk"
    },
    {
      "cell_type": "code",
      "execution_count": 443,
      "metadata": {
        "id": "K415DJXKTatk",
        "outputId": "475e77f1-9f58-459e-9445-e7162eda7e7c",
        "colab": {
          "base_uri": "https://localhost:8080/"
        }
      },
      "outputs": [
        {
          "output_type": "stream",
          "name": "stdout",
          "text": [
            "200000\n",
            "343\n"
          ]
        }
      ],
      "source": [
        "e=event['muons/e'][:]\n",
        "px =event['muons/px'][:]\n",
        "py =event['muons/py'][:]\n",
        "pz =event['muons/pz'][:]\n",
        "q = event['muons/q'][:]\n",
        "\n",
        "# We will check for muons that do not pass the kinematics\n",
        "print(len(px)) # number of muons\n",
        "\n",
        "# see if there are any anomalies and clean them out\n",
        "cut=(e**2 - (px**2 + py**2 + pz**2)) <0\n",
        "\n",
        "print(sum(cut)) #count how many anomalies"
      ],
      "id": "K415DJXKTatk"
    },
    {
      "cell_type": "markdown",
      "metadata": {
        "id": "MaRCrVjnTatm"
      },
      "source": [
        "We can use numpy to clean our arrays from anomalous events"
      ],
      "id": "MaRCrVjnTatm"
    },
    {
      "cell_type": "code",
      "execution_count": 444,
      "metadata": {
        "id": "j3XBvhJATatm"
      },
      "outputs": [],
      "source": [
        "e=np.delete(e,cut)\n",
        "px,py,pz=np.delete(px,cut),np.delete(py,cut),np.delete(pz,cut)\n",
        "q=np.delete(q,cut)"
      ],
      "id": "j3XBvhJATatm"
    },
    {
      "cell_type": "code",
      "execution_count": 445,
      "metadata": {
        "id": "-uUfsFd5Tatn"
      },
      "outputs": [],
      "source": [
        "# let's calculate the mass\n",
        "M=(e**2 - (px**2 + py**2 + pz**2))**.5"
      ],
      "id": "-uUfsFd5Tatn"
    },
    {
      "cell_type": "code",
      "execution_count": 446,
      "metadata": {
        "id": "ls7RBl6FTatn",
        "outputId": "e8f42c1e-7fe9-4d28-9469-9836eacfac8a",
        "colab": {
          "base_uri": "https://localhost:8080/",
          "height": 299
        }
      },
      "outputs": [
        {
          "output_type": "display_data",
          "data": {
            "image/png": "[encoded data removed]",
            "text/plain": [
              "<Figure size 432x288 with 1 Axes>"
            ]
          },
          "metadata": {
            "needs_background": "light"
          }
        }
      ],
      "source": [
        "# Make a histogram of the values of the Mass\n",
        "\n",
        "### Your code Here ###\n",
        "\n",
        "\n",
        "\n",
        "######################\n",
        "\n",
        "plt.xlabel('$\\mu_{mass}$ [GeV]')\n",
        "plt.title('Muon Mass spectrum')\n",
        "plt.show()"
      ],
      "id": "ls7RBl6FTatn"
    },
    {
      "cell_type": "markdown",
      "metadata": {
        "id": "FdkK6btZTato"
      },
      "source": [
        "## Excercise :\n",
        "Using our knowledge so far, zoom in to fix the above plot to **visually** estimate the mass of the muon"
      ],
      "id": "FdkK6btZTato"
    },
    {
      "cell_type": "code",
      "execution_count": 447,
      "metadata": {
        "id": "RQZRfAVeTato",
        "outputId": "8a8891c7-fbca-4d80-af36-6327bb170631",
        "colab": {
          "base_uri": "https://localhost:8080/",
          "height": 299
        }
      },
      "outputs": [
        {
          "output_type": "display_data",
          "data": {
            "image/png": "[encoded data removed]",
            "text/plain": [
              "<Figure size 432x288 with 1 Axes>"
            ]
          },
          "metadata": {
            "needs_background": "light"
          }
        }
      ],
      "source": [
        "#### Your code here ####\n",
        "\n",
        "\n",
        "\n",
        "\n",
        "#### \n",
        "# Where is the value of the peak at?\n",
        "####"
      ],
      "id": "RQZRfAVeTato"
    },
    {
      "cell_type": "markdown",
      "metadata": {
        "id": "cuqYVIIoTatp"
      },
      "source": [
        "# Let's make the dimuon spectrum"
      ],
      "id": "cuqYVIIoTatp"
    },
    {
      "cell_type": "markdown",
      "metadata": {
        "id": "u4JE-yN7Tatp"
      },
      "source": [
        "We need to calculate the sum the energies at the event level \n",
        "\n",
        "\n",
        "**REMEMBER** \n",
        "$$E_{\\rm parent} = E_{\\rm child 0} + E_{\\rm child 1} + E_{\\rm child 2} + ...$$\n",
        "\n",
        "$$p_{\\rm x parent} = p_{\\rm x child 0} + p_{\\rm x child 1} + p_{\\rm x child 2} + ...$$\n",
        "\n",
        "$$p_{\\rm y parent} = p_{\\rm y child 0} + p_{\\rm y child 1} + p_{\\rm y child 2} + ...$$\n",
        "\n",
        "$$p_{\\rm z parent} = p_{\\rm z child 0} + p_{\\rm y child 1} + p_{\\rm z child 2} + ...$$"
      ],
      "id": "u4JE-yN7Tatp"
    },
    {
      "cell_type": "markdown",
      "metadata": {
        "id": "LAXvLAU8Tatq"
      },
      "source": [
        "Let's assume that each event only has 2 muons.\n",
        "We will use the awkward arrays function `unflatten` because we can make pairs of muons this way."
      ],
      "id": "LAXvLAU8Tatq"
    },
    {
      "cell_type": "code",
      "execution_count": 448,
      "metadata": {
        "id": "77VRjuFgTatq"
      },
      "outputs": [],
      "source": [
        "e=ak.unflatten(e,2)\n",
        "px=ak.unflatten(px,2)\n",
        "py=ak.unflatten(py,2)\n",
        "pz=ak.unflatten(pz,2)\n",
        "q= ak.unflatten(q,2)"
      ],
      "id": "77VRjuFgTatq"
    },
    {
      "cell_type": "markdown",
      "metadata": {
        "id": "oj1y9T_7Tatr"
      },
      "source": [
        "First we have to make a cut. We use `ak.sum` to add the charges of the muon pairs.\n",
        "If the charges are opposite the sum is 0. We use this information to select our muon pairs.\n",
        "\n",
        "Here we define a cut to keep only those pairs of muons"
      ],
      "id": "oj1y9T_7Tatr"
    },
    {
      "cell_type": "code",
      "source": [
        "cut = (ak.sum(q,axis=-1) == 0) # This returns a boolean array for each event. If it contains opposite charged muons is shall be True\n",
        "print(cut)"
      ],
      "metadata": {
        "id": "20IK26M8rbs4",
        "outputId": "d54d3b1f-00a1-4971-9493-a7f4841aa2d2",
        "colab": {
          "base_uri": "https://localhost:8080/"
        }
      },
      "id": "20IK26M8rbs4",
      "execution_count": 449,
      "outputs": [
        {
          "output_type": "stream",
          "name": "stdout",
          "text": [
            "[False, True, True, False, True, True, ... True, True, True, False, False, False]\n"
          ]
        }
      ]
    },
    {
      "cell_type": "markdown",
      "source": [
        "Now lets keep only those pairs of muons that have opposite charge. Then we will sum the 4-momenta components and calculate the event mass."
      ],
      "metadata": {
        "id": "K5ME02O7wj3_"
      },
      "id": "K5ME02O7wj3_"
    },
    {
      "cell_type": "code",
      "source": [
        "# Keep only the muons with opposite charges\n",
        "e=e[cut]\n",
        "px,py,pz=px[cut],py[cut],pz[cut]\n",
        "q=q[cut]"
      ],
      "metadata": {
        "id": "mrngzTbHr7tP"
      },
      "id": "mrngzTbHr7tP",
      "execution_count": 451,
      "outputs": []
    },
    {
      "cell_type": "code",
      "execution_count": 455,
      "metadata": {
        "id": "oSIlzIa8Tatr"
      },
      "outputs": [],
      "source": [
        "# we use axis = 1 because it squishes the row dimension and gives us 1 value per row (i.e. 1 value per event)\n",
        "e = np.sum(e,axis=1) \n",
        "px = np.sum(px,axis=1)\n",
        "py = np.sum(py,axis=1)\n",
        "pz = np.sum(pz,axis=1)\n",
        "q = np.sum(q,axis=1) # this should be an array of zeroes. Check!!!"
      ],
      "id": "oSIlzIa8Tatr"
    },
    {
      "cell_type": "markdown",
      "metadata": {
        "id": "2rAxRvK1Tatr"
      },
      "source": [
        "Now calculate the mass per event"
      ],
      "id": "2rAxRvK1Tatr"
    },
    {
      "cell_type": "code",
      "execution_count": 458,
      "metadata": {
        "id": "Tid1siM2Tats"
      },
      "outputs": [],
      "source": [
        "Mass=np.sqrt((e**2-(px**2+py**2+pz**2)))"
      ],
      "id": "Tid1siM2Tats"
    },
    {
      "cell_type": "code",
      "execution_count": 463,
      "metadata": {
        "id": "lDc_68uaTats",
        "outputId": "fcff2404-3832-4235-b85c-5ef25c99a122",
        "colab": {
          "base_uri": "https://localhost:8080/",
          "height": 414
        }
      },
      "outputs": [
        {
          "output_type": "display_data",
          "data": {
            "image/png": "[encoded data removed]",
            "text/plain": [
              "<Figure size 600x400 with 1 Axes>"
            ]
          },
          "metadata": {
            "needs_background": "light"
          }
        }
      ],
      "source": [
        "##### Your code here #####\n",
        "# You should make a histogram that looks like the one at the end of this notebook. \n",
        "# It won't be a perfect match so don't worry to much if it seem odd.\n",
        "\n",
        "\n",
        "\n",
        "\n",
        "##########################\n",
        "\n",
        "\n",
        "plt.xlabel('mass (GeV/$c^2$)')\n",
        "plt.ylabel('Events')\n",
        "plt.yscale('symlog')\n",
        "plt.xscale('symlog')\n",
        "plt.title('Mass of dimuons per event')\n",
        "\n",
        "plt.show()\n"
      ],
      "id": "lDc_68uaTats"
    },
    {
      "cell_type": "markdown",
      "metadata": {
        "id": "4Kps3sGICRMu"
      },
      "source": [
        "Depending on what you did, you may see hints of particles below 20 GeV/c$^2$. It is possible you see signs of other particles at even higher energies. Plot your masses over a wide range of values, but then zoom in (change the plotting range) on different mass ranges to see if you can identify these particles.  "
      ],
      "id": "4Kps3sGICRMu"
    },
    {
      "cell_type": "code",
      "execution_count": null,
      "metadata": {
        "id": "bMhlKwy3Tatt",
        "outputId": "eb7371f8-b124-4eea-98f2-1de59d7b2e39"
      },
      "outputs": [
        {
          "data": {
            "text/html": [
              "<img src=\"https://twiki.cern.ch/twiki/pub/CMSPublic/HLTDiMuon2017and2018/CMS_HLT_DimuonMass_Inclusive_2017.png\"/>"
            ],
            "text/plain": [
              "<IPython.core.display.Image object>"
            ]
          },
          "execution_count": 632,
          "metadata": {},
          "output_type": "execute_result"
        }
      ],
      "source": [
        "Image(url='https://twiki.cern.ch/twiki/pub/CMSPublic/HLTDiMuon2017and2018/CMS_HLT_DimuonMass_Inclusive_2017.png')"
      ],
      "id": "bMhlKwy3Tatt"
    }
  ],
  "metadata": {
    "kernelspec": {
      "display_name": "Python 3",
      "language": "python",
      "name": "python3"
    },
    "language_info": {
      "codemirror_mode": {
        "name": "ipython",
        "version": 3
      },
      "file_extension": ".py",
      "mimetype": "text/x-python",
      "name": "python",
      "nbconvert_exporter": "python",
      "pygments_lexer": "ipython3",
      "version": "3.7.6"
    },
    "colab": {
      "name": "CMS-Dimuons.ipynb",
      "provenance": [],
      "include_colab_link": true
    }
  },
  "nbformat": 4,
  "nbformat_minor": 5
}